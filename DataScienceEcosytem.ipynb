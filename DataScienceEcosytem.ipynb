{
 "cells": [
  {
   "cell_type": "markdown",
   "id": "eb83d544-d93c-4431-a212-113ee82d599c",
   "metadata": {},
   "source": [
    "# Data Science Tools and Ecosystem"
   ]
  },
  {
   "cell_type": "markdown",
   "id": "7ae79f25-8578-4472-832e-596dd7e9a522",
   "metadata": {},
   "source": [
    "This notebook will introduce the basic concepts of data science, including essential languages, libraries, and tools for data analysis."
   ]
  },
  {
   "cell_type": "markdown",
   "id": "469fec92-7b98-4352-806d-b9805f2865e3",
   "metadata": {},
   "source": [
    "Some of the popular languages that Data Scientists use are:\n",
    "1. Python\n",
    "2. R\n",
    "3. SQL\n",
    "4. C++\n",
    "5. Java ,etc..."
   ]
  },
  {
   "cell_type": "markdown",
   "id": "143137c6-535a-4821-a635-1986ee9de799",
   "metadata": {},
   "source": [
    "Some of the commonly used libraries used by Data Scientists include:\n",
    "1. TensorFlow\n",
    "2. NumPy\n",
    "3. SciPy\n",
    "4. Pandas \n",
    "5. Matplotlib\n",
    "6. Keras\n",
    "7. PyTorch,etc..;"
   ]
  },
  {
   "cell_type": "markdown",
   "id": "bc710b87-d3d9-4cec-b8cf-a444ec6fce56",
   "metadata": {},
   "source": [
    "| Data Science Tools |\n",
    "|--------------------|\n",
    "| Jupyter            |\n",
    "| GitHub             |\n",
    "| Tableau            |\n",
    "| MySQL              |\n",
    "| Apache Hadoop      |\n",
    "| Excel              |"
   ]
  },
  {
   "cell_type": "markdown",
   "id": "249c0fdb-7aea-4080-a2c8-6b79c2f6d691",
   "metadata": {},
   "source": [
    "### Below are a few examples of evaluating arithmetic expressions in Python."
   ]
  },
  {
   "cell_type": "markdown",
   "id": "5bb1ef3b-f1e2-47f8-ab36-3d135e5d7aa0",
   "metadata": {},
   "source": [
    "This is a common arithmetic example for multiplying and then adding integers (3*4)+5"
   ]
  },
  {
   "cell_type": "code",
   "execution_count": 8,
   "id": "08ed7d26-a2f1-48c9-bc19-e1e0d028d975",
   "metadata": {},
   "outputs": [
    {
     "data": {
      "text/plain": [
       "17"
      ]
     },
     "execution_count": 8,
     "metadata": {},
     "output_type": "execute_result"
    }
   ],
   "source": [
    "(3*4)+5"
   ]
  },
  {
   "cell_type": "markdown",
   "id": "3652ffcc-a7c0-4ab7-ad55-27ca3c5d7ea4",
   "metadata": {},
   "source": [
    "This will convert 200 minutes to 60 hours diving 200/60"
   ]
  },
  {
   "cell_type": "code",
   "execution_count": 9,
   "id": "3d72d0da-fe21-4b25-8d2c-c0d281a2e487",
   "metadata": {},
   "outputs": [
    {
     "data": {
      "text/plain": [
       "3.3333333333333335"
      ]
     },
     "execution_count": 9,
     "metadata": {},
     "output_type": "execute_result"
    }
   ],
   "source": [
    "200/60"
   ]
  },
  {
   "cell_type": "markdown",
   "id": "7e795029-d2a6-482d-807a-cb1f52aed6b1",
   "metadata": {},
   "source": [
    "__Objectives__\n",
    "* List popular languages for Data Science\n",
    "* List popular libraries for Data Science\n",
    "* Introduce Data Science tools\n",
    "* Demonstrate basic arithmetic expressions in Python\n",
    "* Learn to share notebooks via GitHub"
   ]
  },
  {
   "cell_type": "markdown",
   "id": "a5521499-384e-42d6-8f00-8a78dfad2a65",
   "metadata": {},
   "source": [
    "## Author\n",
    "Adrian Turin Torres"
   ]
  },
  {
   "cell_type": "code",
   "execution_count": null,
   "id": "4e9f683f-d86f-441c-b433-7427892f75b0",
   "metadata": {},
   "outputs": [],
   "source": []
  }
 ],
 "metadata": {
  "kernelspec": {
   "display_name": "Python 3 (ipykernel)",
   "language": "python",
   "name": "python3"
  },
  "language_info": {
   "codemirror_mode": {
    "name": "ipython",
    "version": 3
   },
   "file_extension": ".py",
   "mimetype": "text/x-python",
   "name": "python",
   "nbconvert_exporter": "python",
   "pygments_lexer": "ipython3",
   "version": "3.12.8"
  }
 },
 "nbformat": 4,
 "nbformat_minor": 5
}
